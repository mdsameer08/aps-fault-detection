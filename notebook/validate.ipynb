{
 "cells": [
  {
   "cell_type": "code",
   "execution_count": 2,
   "metadata": {},
   "outputs": [],
   "source": [
    "import numpy as np\n",
    "from scipy import stats\n",
    "rng = np.random.default_rng()\n",
    "sample1 = stats.uniform.rvs(size=100, random_state=rng)\n",
    "sample2 = stats.norm.rvs(size=110, random_state=rng)\n",
    "response = stats.ks_2samp(sample1, sample2)"
   ]
  },
  {
   "cell_type": "code",
   "execution_count": 3,
   "metadata": {},
   "outputs": [
    {
     "data": {
      "text/plain": [
       "array([0.46847498, 0.45300211, 0.58504131, 0.38218742, 0.57173456,\n",
       "       0.87602804, 0.51604433, 0.05785818, 0.86396698, 0.46092514,\n",
       "       0.8186834 , 0.25312793, 0.86428584, 0.46011718, 0.26187277,\n",
       "       0.97138189, 0.39582423, 0.5980368 , 0.2639505 , 0.05505804,\n",
       "       0.23640844, 0.87488391, 0.18336472, 0.73328114, 0.93915943,\n",
       "       0.65434651, 0.04207879, 0.74735354, 0.61306933, 0.57616618,\n",
       "       0.93989256, 0.91217179, 0.08119868, 0.9707028 , 0.42033253,\n",
       "       0.25597011, 0.42697672, 0.38334228, 0.86961446, 0.3200702 ,\n",
       "       0.25482192, 0.07087586, 0.94178139, 0.34673469, 0.93999568,\n",
       "       0.39071962, 0.55856946, 0.94199553, 0.7546397 , 0.7659308 ,\n",
       "       0.81535357, 0.51143872, 0.15814164, 0.06435445, 0.67959256,\n",
       "       0.27487745, 0.25656699, 0.42763627, 0.37562897, 0.43284547,\n",
       "       0.01165746, 0.86770963, 0.83769495, 0.90510662, 0.93334811,\n",
       "       0.80656448, 0.21789222, 0.58151107, 0.32087155, 0.57073207,\n",
       "       0.55403557, 0.39651985, 0.67262839, 0.52327313, 0.57972165,\n",
       "       0.95215725, 0.04717194, 0.09733345, 0.99734878, 0.3156658 ,\n",
       "       0.64067892, 0.21486481, 0.74129324, 0.24326761, 0.84222908,\n",
       "       0.11382897, 0.70709078, 0.99176182, 0.16655913, 0.73541645,\n",
       "       0.3797093 , 0.5347842 , 0.07760016, 0.72809772, 0.59936778,\n",
       "       0.15945617, 0.66814676, 0.7627313 , 0.40590862, 0.70179692])"
      ]
     },
     "execution_count": 3,
     "metadata": {},
     "output_type": "execute_result"
    }
   ],
   "source": [
    "sample1"
   ]
  },
  {
   "cell_type": "code",
   "execution_count": 4,
   "metadata": {},
   "outputs": [
    {
     "data": {
      "text/plain": [
       "array([ 1.16608353,  1.12893125, -0.92577677,  2.01898572, -0.19887411,\n",
       "       -0.26414565,  0.17845167,  1.42382131, -0.04782439, -0.8593036 ,\n",
       "        0.38511588,  1.28749591,  0.80786178,  0.7729183 ,  0.80118058,\n",
       "        0.17608456,  0.29230822, -0.40131019,  0.39380792, -0.11246525,\n",
       "        1.91454661,  0.15118559,  0.55489967, -0.05218891, -0.13133739,\n",
       "        1.16047604,  0.57968737,  0.29001268, -0.03460898,  0.28006166,\n",
       "        0.47212814,  1.67895525,  0.76224873,  0.95401413, -0.55806774,\n",
       "        1.56558541, -0.62846767,  2.85332762,  0.84846064,  0.50121804,\n",
       "       -0.84136226, -1.10733724,  0.24418065, -0.39429915, -0.8835942 ,\n",
       "        0.0409137 ,  0.55035985,  1.27546329, -0.81816428,  1.05378951,\n",
       "       -0.29148303, -0.0840401 ,  2.15730757, -2.17196168, -0.76742097,\n",
       "       -1.08463098,  0.61548263,  0.32856112,  1.01729612,  0.34940138,\n",
       "        0.66842957,  2.00262074,  1.06870776, -0.11891027, -1.26489073,\n",
       "       -0.48518635,  0.4712841 ,  0.58168565,  1.11653039, -0.55549404,\n",
       "       -0.38152804,  0.911984  ,  0.92690969, -0.87845217,  0.0538937 ,\n",
       "       -0.20410152,  0.97037568, -1.28829444,  1.15956606, -1.81652973,\n",
       "        1.79747201, -0.05462018, -0.69441573, -1.15569468, -0.7931483 ,\n",
       "       -1.31800305, -0.01965827, -0.6493853 ,  0.69009567,  0.05632663,\n",
       "        1.64453359, -0.67237453, -0.4157065 ,  0.09780301,  0.96877325,\n",
       "        1.97123857, -0.21992721, -0.38527933, -0.42100254,  0.23819502,\n",
       "        0.23037168,  1.30461636,  0.13736144,  0.66335187,  1.23523349,\n",
       "       -0.61952095,  0.18987068,  0.99143802, -1.58600411, -0.88087537])"
      ]
     },
     "execution_count": 4,
     "metadata": {},
     "output_type": "execute_result"
    }
   ],
   "source": [
    "sample2"
   ]
  },
  {
   "cell_type": "code",
   "execution_count": 5,
   "metadata": {},
   "outputs": [
    {
     "data": {
      "text/plain": [
       "9.6295532e-09"
      ]
     },
     "execution_count": 5,
     "metadata": {},
     "output_type": "execute_result"
    }
   ],
   "source": [
    "round(response.pvalue,16)"
   ]
  },
  {
   "cell_type": "code",
   "execution_count": 7,
   "metadata": {},
   "outputs": [
    {
     "ename": "SyntaxError",
     "evalue": "invalid syntax (3382044007.py, line 7)",
     "output_type": "error",
     "traceback": [
      "\u001b[0;36m  Cell \u001b[0;32mIn[7], line 7\u001b[0;36m\u001b[0m\n\u001b[0;31m    Gender--> MALE, FEMALE,OTHER\u001b[0m\n\u001b[0m           ^\u001b[0m\n\u001b[0;31mSyntaxError\u001b[0m\u001b[0;31m:\u001b[0m invalid syntax\n"
     ]
    }
   ],
   "source": [
    "#Anomly in my dataset\n",
    "# \n",
    "# 1.High Null Value\n",
    "#2. Missing COlumns\n",
    "#3. Outlier\n",
    "#4. Categorical: \n",
    "Gender--> MALE, FEMALE,OTHER\n"
   ]
  },
  {
   "cell_type": "code",
   "execution_count": 1,
   "metadata": {},
   "outputs": [],
   "source": [
    "import pandas as pd"
   ]
  },
  {
   "cell_type": "code",
   "execution_count": 2,
   "metadata": {},
   "outputs": [],
   "source": [
    "df=pd.read_csv(\"/config/workspace/aps_failure_training_set1.csv\")"
   ]
  },
  {
   "cell_type": "code",
   "execution_count": 3,
   "metadata": {},
   "outputs": [
    {
     "data": {
      "text/plain": [
       "class     0\n",
       "aa_000    0\n",
       "ab_000    0\n",
       "ac_000    0\n",
       "ad_000    0\n",
       "         ..\n",
       "ee_007    0\n",
       "ee_008    0\n",
       "ee_009    0\n",
       "ef_000    0\n",
       "eg_000    0\n",
       "Length: 171, dtype: int64"
      ]
     },
     "execution_count": 3,
     "metadata": {},
     "output_type": "execute_result"
    }
   ],
   "source": [
    "df.isnull().sum()"
   ]
  }
 ],
 "metadata": {
  "kernelspec": {
   "display_name": "Python 3.8.10 64-bit",
   "language": "python",
   "name": "python3"
  },
  "language_info": {
   "codemirror_mode": {
    "name": "ipython",
    "version": 3
   },
   "file_extension": ".py",
   "mimetype": "text/x-python",
   "name": "python",
   "nbconvert_exporter": "python",
   "pygments_lexer": "ipython3",
   "version": "3.8.10"
  },
  "orig_nbformat": 4,
  "vscode": {
   "interpreter": {
    "hash": "e7370f93d1d0cde622a1f8e1c04877d8463912d04d973331ad4851f04de6915a"
   }
  }
 },
 "nbformat": 4,
 "nbformat_minor": 2
}
